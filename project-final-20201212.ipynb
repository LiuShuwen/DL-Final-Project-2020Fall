{
 "cells": [
  {
   "cell_type": "code",
   "execution_count": 1,
   "metadata": {},
   "outputs": [],
   "source": [
    "import numpy as np\n",
    "import pandas as pd\n",
    "pd.set_option(\"display.max_rows\", 101)\n",
    "import os\n",
    "import cv2\n",
    "import json\n",
    "import matplotlib.pyplot as plt\n",
    "%matplotlib inline\n",
    "plt.rcParams[\"font.size\"] = 15\n",
    "from collections import Counter\n",
    "from PIL import Image\n",
    "import math\n",
    "from collections import defaultdict\n",
    "from pathlib import Path\n",
    "import cv2\n",
    "from tqdm import tqdm\n",
    "import seaborn as sns"
   ]
  },
  {
   "cell_type": "markdown",
   "metadata": {},
   "source": [
    "# Data Exploration\n"
   ]
  },
  {
   "cell_type": "markdown",
   "metadata": {},
   "source": [
    "## 1. Import modules and dataset"
   ]
  },
  {
   "cell_type": "code",
   "execution_count": 2,
   "metadata": {},
   "outputs": [],
   "source": [
    "path = './data/'\n",
    "\n",
    "data = pd.read_csv(path + 'train.csv')\n",
    "data['ClassId'] = data['ClassId'].astype(int)\n",
    "data = data.pivot(index='ImageId',columns='ClassId',values='EncodedPixels')\n",
    "\n",
    "data.head()"
   ]
  },
  {
   "cell_type": "markdown",
   "metadata": {},
   "source": [
    "## 2. Exploratory Data Analysis\n",
    "\n",
    "Check the number of each classes"
   ]
  },
  {
   "cell_type": "code",
   "execution_count": 3,
   "metadata": {},
   "outputs": [],
   "source": [
    "class_dict = defaultdict(int)\n",
    "\n",
    "kind_class_dict = defaultdict(int)\n",
    "\n",
    "no_defects_num = 0\n",
    "defects_num = 0\n",
    "\n",
    "for i in range(0, len(data)):\n",
    "    img_names = [data.iloc[i, 0]]\n",
    "        \n",
    "    labels = data.iloc[i, 0:4]\n",
    "\n",
    "    if labels.isna().all():\n",
    "        no_defects_num += 1\n",
    "    else:\n",
    "        defects_num += 1\n",
    "    \n",
    "    kind_class_dict[sum(labels.isna().values == False)] += 1\n",
    "        \n",
    "    for idx, label in enumerate(labels.isna().values.tolist()):\n",
    "        if label == False:\n",
    "            class_dict[idx+1] += 1"
   ]
  },
  {
   "cell_type": "code",
   "execution_count": 4,
   "metadata": {},
   "outputs": [],
   "source": [
    "print(\"the number of images with no defects: {}\".format(no_defects_num))\n",
    "print(\"the number of images with defects: {}\".format(defects_num))"
   ]
  },
  {
   "cell_type": "code",
   "execution_count": 5,
   "metadata": {},
   "outputs": [],
   "source": [
    "fig, ax = plt.subplots()\n",
    "sns.barplot(x=list(class_dict.keys()), y=list(class_dict.values()), ax=ax)\n",
    "ax.set_title(\"the number of images for each class\")\n",
    "ax.set_xlabel(\"class\")\n",
    "class_dict"
   ]
  },
  {
   "cell_type": "markdown",
   "metadata": {},
   "source": [
    "The dataset doesn't have images with no defects, and class is imbalanced."
   ]
  },
  {
   "cell_type": "markdown",
   "metadata": {},
   "source": [
    "How many classes do each image have?"
   ]
  },
  {
   "cell_type": "code",
   "execution_count": 6,
   "metadata": {},
   "outputs": [],
   "source": [
    "fig, ax = plt.subplots()\n",
    "sns.barplot(x=list(kind_class_dict.keys()), y=list(kind_class_dict.values()), ax=ax)\n",
    "ax.set_title(\"Number of classes included in each image\");\n",
    "ax.set_xlabel(\"number of classes in the image\")\n",
    "kind_class_dict"
   ]
  },
  {
   "cell_type": "markdown",
   "metadata": {},
   "source": [
    "Most images have one class."
   ]
  },
  {
   "cell_type": "markdown",
   "metadata": {},
   "source": [
    "Explore image data"
   ]
  },
  {
   "cell_type": "code",
   "execution_count": 7,
   "metadata": {},
   "outputs": [],
   "source": [
    "train_size_dict = defaultdict(int)\n",
    "train_path = Path(\"./data/train_images/\")\n",
    "\n",
    "for img_name in train_path.iterdir():\n",
    "    img = Image.open(img_name)\n",
    "    train_size_dict[img.size] += 1"
   ]
  },
  {
   "cell_type": "code",
   "execution_count": 8,
   "metadata": {},
   "outputs": [],
   "source": [
    "test_size_dict = defaultdict(int)\n",
    "test_path = Path(\"./data/test_images/\")\n",
    "\n",
    "for img_name in test_path.iterdir():\n",
    "    img = Image.open(img_name)\n",
    "    test_size_dict[img.size] += 1"
   ]
  },
  {
   "cell_type": "markdown",
   "metadata": {},
   "source": [
    "# Summarization"
   ]
  },
  {
   "cell_type": "markdown",
   "metadata": {},
   "source": [
    "By data exploration, we found that images in this Steel dataset might have multi-label classification which conduct me to do a multiple binary-classification task\n",
    "\n"
   ]
  },
  {
   "cell_type": "markdown",
   "metadata": {},
   "source": [
    "## Data Exploration"
   ]
  },
  {
   "cell_type": "code",
   "execution_count": 9,
   "metadata": {},
   "outputs": [],
   "source": [
    "path = './data/'\n",
    "\n",
    "data = pd.read_csv(path + 'train.csv')\n",
    "data.head()"
   ]
  },
  {
   "cell_type": "code",
   "execution_count": 10,
   "metadata": {},
   "outputs": [],
   "source": [
    "data = data[data['EncodedPixels'].notnull()].reset_index(drop=True)\n",
    "print(len(data))\n",
    "data.head()"
   ]
  },
  {
   "cell_type": "markdown",
   "metadata": {},
   "source": [
    "# Build Data Loader"
   ]
  },
  {
   "cell_type": "markdown",
   "metadata": {},
   "source": [
    "## Image masking"
   ]
  },
  {
   "cell_type": "code",
   "execution_count": 11,
   "metadata": {},
   "outputs": [],
   "source": [
    "def make_mask(row_id, df):\n",
    "    '''Given a row index, return image_id and mask (256, 1600, 4) from the dataframe `df`'''\n",
    "    fname = df.iloc[row_id].name\n",
    "    labels = df.iloc[row_id][:4]\n",
    "    masks = np.zeros((256, 1600, 4), dtype=np.float32)\n",
    "\n",
    "    for idx, label in enumerate(labels.values):\n",
    "        if label is not np.nan:\n",
    "            label = label.split(\" \")\n",
    "            positions = map(int, label[0::2])\n",
    "            length = map(int, label[1::2])\n",
    "            mask = np.zeros(256 * 1600, dtype=np.uint8)\n",
    "            for pos, le in zip(positions, length):\n",
    "                mask[pos:(pos + le)] = 1\n",
    "            masks[:, :, idx] = mask.reshape(256, 1600, order='F')\n",
    "    return fname, masks"
   ]
  },
  {
   "cell_type": "markdown",
   "metadata": {},
   "source": [
    "## Transforms to pre-processing\n",
    "We emply the library albumentations to do data augumentation for segmentation task. We pre-process images by resizing, normalizing and tensoring, and if the training phase horizontal flipping is employed.\n",
    "\n",
    "Notes that we use the mean/std values from ImageNet, which are [0.485, 0.456, 0.406], [0.229, 0.224, 0.225]"
   ]
  },
  {
   "cell_type": "code",
   "execution_count": 12,
   "metadata": {},
   "outputs": [],
   "source": [
    "from albumentations import HorizontalFlip, VerticalFlip, Rotate, RandomCrop, Normalize, Resize, Compose\n",
    "from albumentations.pytorch import ToTensor\n",
    "\n",
    "def get_transforms(phase):\n",
    "    list_transforms = []\n",
    "    if phase == \"train\":\n",
    "        list_transforms.extend(\n",
    "            [\n",
    "                HorizontalFlip(p=0.5),\n",
    "                VerticalFlip(p=0.5),\n",
    "                Rotate(p=0.5),\n",
    "                RandomCrop(width=256, height=256, p=0.5)\n",
    "            ]\n",
    "        )\n",
    "    list_transforms.extend(\n",
    "        [\n",
    "            Resize(256, 256),\n",
    "            Normalize(mean=[0.485, 0.456, 0.406], std=[0.229, 0.224, 0.225], p=1),\n",
    "            ToTensor(),\n",
    "        ]\n",
    "    )\n",
    "    list_trfms = Compose(list_transforms)\n",
    "    return list_trfms"
   ]
  },
  {
   "cell_type": "markdown",
   "metadata": {},
   "source": [
    "## Steel dataset\n",
    "Build a dataset which can read a image and pre-process it, and return the processed image as well as its masks"
   ]
  },
  {
   "cell_type": "code",
   "execution_count": 13,
   "metadata": {},
   "outputs": [],
   "source": [
    "from torch.utils.data import Dataset\n",
    "\n",
    "class SteelDataset(Dataset):\n",
    "    def __init__(self, df, data_folder, phase):\n",
    "        self.df = df\n",
    "        self.root = data_folder\n",
    "        self.phase = phase\n",
    "        self.transforms = get_transforms(phase)\n",
    "        self.fnames = self.df.index.tolist()\n",
    "\n",
    "    def __getitem__(self, idx):\n",
    "        image_id, mask = make_mask(idx, self.df)\n",
    "        image_path = os.path.join(self.root, \"train_images\",  image_id)\n",
    "        img = cv2.imread(image_path)\n",
    "        augmented = self.transforms(image=img, mask=mask)\n",
    "        img = augmented['image']\n",
    "        mask = augmented['mask'] # 1x256x1600x4\n",
    "        mask = mask[0].permute(2, 0, 1) # 4x256x1600\n",
    "        return img, mask\n",
    "\n",
    "    def __len__(self):\n",
    "        return len(self.fnames)\n"
   ]
  },
  {
   "cell_type": "markdown",
   "metadata": {},
   "source": [
    "## Data loader\n",
    "Build a data loader that iterate all the images in the folder"
   ]
  },
  {
   "cell_type": "code",
   "execution_count": 14,
   "metadata": {},
   "outputs": [],
   "source": [
    "from sklearn.model_selection import train_test_split\n",
    "from torch.utils.data import DataLoader\n",
    "\n",
    "def SteelDataLoader(\n",
    "    data_folder,\n",
    "    df,\n",
    "    phase,\n",
    "    batch_size=8,\n",
    "    num_workers=4,\n",
    "):\n",
    "    '''Returns dataloader for the model training'''\n",
    "    image_dataset = SteelDataset(df, data_folder, phase)\n",
    "    dataloader = DataLoader(\n",
    "        image_dataset,\n",
    "        batch_size=batch_size,\n",
    "        num_workers=num_workers,\n",
    "        pin_memory=True,\n",
    "        shuffle=True,   \n",
    "    )\n",
    "\n",
    "    return dataloader\n",
    "\n",
    "\n"
   ]
  },
  {
   "cell_type": "markdown",
   "metadata": {},
   "source": [
    "Train Validation split"
   ]
  },
  {
   "cell_type": "code",
   "execution_count": 15,
   "metadata": {},
   "outputs": [],
   "source": [
    "# data['ClassId'] = data['ClassId'].astype(int)\n",
    "# data = data.pivot(index='ImageId',columns='ClassId',values='EncodedPixels')\n",
    "# train_df, val_df = train_test_split(data, test_size=0.2, stratify=data.count(axis=1), random_state=69)\n",
    "\n",
    "# train_df.head()"
   ]
  },
  {
   "cell_type": "code",
   "execution_count": 16,
   "metadata": {},
   "outputs": [],
   "source": [
    "# train_df, val_df = train_test_split(data, test_size=0.2, stratify=data.count(axis=1), random_state=69)\n",
    "# # train_df = pd.read_csv(\"./data/new_train.csv\")\n",
    "# # val_df = pd.read_csv(\"./data/new_test.csv\")\n",
    "# train_loader = SteelDataLoader(\"./data/\", train_df, \"train\", 4, 4)\n",
    "# val_loader = SteelDataLoader(\"./data/\", val_df, \"val\", 4, 4)"
   ]
  },
  {
   "cell_type": "code",
   "execution_count": 17,
   "metadata": {},
   "outputs": [
    {
     "data": {
      "text/html": [
       "<div>\n",
       "<style scoped>\n",
       "    .dataframe tbody tr th:only-of-type {\n",
       "        vertical-align: middle;\n",
       "    }\n",
       "\n",
       "    .dataframe tbody tr th {\n",
       "        vertical-align: top;\n",
       "    }\n",
       "\n",
       "    .dataframe thead th {\n",
       "        text-align: right;\n",
       "    }\n",
       "</style>\n",
       "<table border=\"1\" class=\"dataframe\">\n",
       "  <thead>\n",
       "    <tr style=\"text-align: right;\">\n",
       "      <th></th>\n",
       "      <th>1</th>\n",
       "      <th>2</th>\n",
       "      <th>3</th>\n",
       "      <th>4</th>\n",
       "    </tr>\n",
       "    <tr>\n",
       "      <th>ImageId</th>\n",
       "      <th></th>\n",
       "      <th></th>\n",
       "      <th></th>\n",
       "      <th></th>\n",
       "    </tr>\n",
       "  </thead>\n",
       "  <tbody>\n",
       "    <tr>\n",
       "      <th>ca492d6f1.jpg</th>\n",
       "      <td>NaN</td>\n",
       "      <td>NaN</td>\n",
       "      <td>154203 90 154370 179 154626 179 154882 179 155...</td>\n",
       "      <td>NaN</td>\n",
       "    </tr>\n",
       "    <tr>\n",
       "      <th>8b495e389.jpg</th>\n",
       "      <td>NaN</td>\n",
       "      <td>NaN</td>\n",
       "      <td>258819 10 259075 30 259331 49 259587 69 259843...</td>\n",
       "      <td>NaN</td>\n",
       "    </tr>\n",
       "    <tr>\n",
       "      <th>ebffb5d31.jpg</th>\n",
       "      <td>NaN</td>\n",
       "      <td>NaN</td>\n",
       "      <td>14420 5 14676 14 14932 22 15187 28 15443 28 15...</td>\n",
       "      <td>NaN</td>\n",
       "    </tr>\n",
       "    <tr>\n",
       "      <th>ce22cd852.jpg</th>\n",
       "      <td>NaN</td>\n",
       "      <td>NaN</td>\n",
       "      <td>40462 1 40717 3 40971 5 41226 7 41481 8 41736 ...</td>\n",
       "      <td>NaN</td>\n",
       "    </tr>\n",
       "    <tr>\n",
       "      <th>24e3826ff.jpg</th>\n",
       "      <td>NaN</td>\n",
       "      <td>NaN</td>\n",
       "      <td>256509 4 256758 11 257006 19 257255 26 257507 ...</td>\n",
       "      <td>NaN</td>\n",
       "    </tr>\n",
       "  </tbody>\n",
       "</table>\n",
       "</div>"
      ],
      "text/plain": [
       "                 1    2                                                  3  \\\n",
       "ImageId                                                                      \n",
       "ca492d6f1.jpg  NaN  NaN  154203 90 154370 179 154626 179 154882 179 155...   \n",
       "8b495e389.jpg  NaN  NaN  258819 10 259075 30 259331 49 259587 69 259843...   \n",
       "ebffb5d31.jpg  NaN  NaN  14420 5 14676 14 14932 22 15187 28 15443 28 15...   \n",
       "ce22cd852.jpg  NaN  NaN  40462 1 40717 3 40971 5 41226 7 41481 8 41736 ...   \n",
       "24e3826ff.jpg  NaN  NaN  256509 4 256758 11 257006 19 257255 26 257507 ...   \n",
       "\n",
       "                 4  \n",
       "ImageId             \n",
       "ca492d6f1.jpg  NaN  \n",
       "8b495e389.jpg  NaN  \n",
       "ebffb5d31.jpg  NaN  \n",
       "ce22cd852.jpg  NaN  \n",
       "24e3826ff.jpg  NaN  "
      ]
     },
     "execution_count": 17,
     "metadata": {},
     "output_type": "execute_result"
    }
   ],
   "source": [
    "train_df = pd.read_csv(\"./data/new_train.csv\", index_col=\"ImageId\")\n",
    "val_df = pd.read_csv(\"./data/new_test.csv\", index_col=\"ImageId\")\n",
    "train_loader = SteelDataLoader(\"./data/\", train_df, \"train\", 4, 4)\n",
    "val_loader = SteelDataLoader(\"./data/\", val_df, \"val\", 4, 4)\n",
    "train_df.head()"
   ]
  },
  {
   "cell_type": "markdown",
   "metadata": {},
   "source": [
    "# Segmentation Metrics"
   ]
  },
  {
   "cell_type": "markdown",
   "metadata": {},
   "source": [
    "## Prediction function\n",
    "\n",
    "Multi-label classification: use Sigmoid to predict each class"
   ]
  },
  {
   "cell_type": "code",
   "execution_count": 19,
   "metadata": {},
   "outputs": [],
   "source": [
    "def predict(X, threshold):\n",
    "    '''X is sigmoid output of the model'''\n",
    "    X_p = np.copy(X)\n",
    "    preds = (X_p > threshold).astype('uint8')\n",
    "    return preds"
   ]
  },
  {
   "cell_type": "markdown",
   "metadata": {},
   "source": [
    "## Metrics\n",
    "\n",
    "We calculated two types of metrics - Dice and Iou."
   ]
  },
  {
   "cell_type": "code",
   "execution_count": 20,
   "metadata": {},
   "outputs": [],
   "source": [
    "def compute_dice(probability, truth, threshold=0.5, reduction='none'):\n",
    "    '''Calculates dice of positive and negative images seperately'''\n",
    "    '''probability and truth must be torch tensors'''\n",
    "    batch_size = len(truth)\n",
    "    with torch.no_grad():\n",
    "        probability = probability.view(batch_size, -1)\n",
    "        truth = truth.view(batch_size, -1)\n",
    "        assert(probability.shape == truth.shape)\n",
    "\n",
    "        p = (probability > threshold).float()\n",
    "        t = (truth > 0.5).float()\n",
    "\n",
    "        t_sum = t.sum(-1)\n",
    "        p_sum = p.sum(-1)\n",
    "        neg_index = torch.nonzero(t_sum == 0, as_tuple=False)\n",
    "        pos_index = torch.nonzero(t_sum >= 1, as_tuple=False)\n",
    "\n",
    "        dice_neg = (p_sum == 0).float()\n",
    "        dice_pos = 2 * (p*t).sum(-1)/((p+t).sum(-1))\n",
    "\n",
    "        dice_neg = dice_neg[neg_index]\n",
    "        dice_pos = dice_pos[pos_index]\n",
    "        dice = torch.cat([dice_pos, dice_neg])\n",
    "\n",
    "        num_neg = len(neg_index)\n",
    "        num_pos = len(pos_index)\n",
    "\n",
    "    return dice, dice_neg, dice_pos, num_neg, num_pos\n",
    "\n",
    "\n",
    "def compute_ious(pred, label, classes, ignore_index=255, only_present=True):\n",
    "    pred[label == ignore_index] = 0\n",
    "    ious = []\n",
    "    for c in classes:\n",
    "        label_c = label == c\n",
    "        if only_present and np.sum(label_c) == 0:\n",
    "            ious.append(np.nan)\n",
    "            continue\n",
    "        pred_c = pred == c\n",
    "        intersection = np.logical_and(pred_c, label_c).sum()\n",
    "        union = np.logical_or(pred_c, label_c).sum()\n",
    "        if union != 0:\n",
    "            ious.append(intersection / union)\n",
    "    return ious if ious else [1]\n",
    "\n",
    "def compute_iou_batch(outputs, labels, classes=None):\n",
    "    ious = []\n",
    "    preds = np.copy(outputs)\n",
    "    labels = np.array(labels)\n",
    "    for pred, label in zip(preds, labels):\n",
    "        ious.append(np.nanmean(compute_ious(pred, label, classes)))\n",
    "    iou = np.nanmean(ious)\n",
    "    return iou"
   ]
  },
  {
   "cell_type": "markdown",
   "metadata": {},
   "source": [
    "## Metrics logger\n",
    "print log while training"
   ]
  },
  {
   "cell_type": "code",
   "execution_count": 21,
   "metadata": {},
   "outputs": [],
   "source": [
    "class Logger:\n",
    "    '''A Logger to keep track of iou and dice scores throughout an epoch'''\n",
    "    def __init__(self, phase, epoch):\n",
    "        self.base_threshold = 0.5\n",
    "        self.base_dice_scores = []\n",
    "        self.dice_neg_scores = []\n",
    "        self.dice_pos_scores = []\n",
    "        self.iou_scores = []\n",
    "\n",
    "    def update(self, targets, outputs):\n",
    "        probs = torch.sigmoid(outputs)\n",
    "        dice, dice_neg, dice_pos, _, _ = compute_dice(probs, targets, self.base_threshold)\n",
    "        self.base_dice_scores.extend(dice.tolist())\n",
    "        self.dice_pos_scores.extend(dice_pos.tolist())\n",
    "        self.dice_neg_scores.extend(dice_neg.tolist())\n",
    "        preds = predict(probs, self.base_threshold)\n",
    "        iou = compute_iou_batch(preds, targets, classes=[1])\n",
    "        self.iou_scores.append(iou)\n",
    "\n",
    "    def get_metrics(self):\n",
    "        dice = np.nanmean(self.base_dice_scores)\n",
    "        dice_neg = np.nanmean(self.dice_neg_scores)\n",
    "        dice_pos = np.nanmean(self.dice_pos_scores)\n",
    "        dices = [dice, dice_neg, dice_pos]\n",
    "        iou = np.nanmean(self.iou_scores)\n",
    "        return dices, iou\n",
    "\n",
    "def epoch_log(epoch, epoch_loss, meter):\n",
    "    '''logging the metrics at the end of an epoch'''\n",
    "    dices, iou = meter.get_metrics()\n",
    "    dice, dice_neg, dice_pos = dices\n",
    "    print(\"Loss: %0.4f | IoU: %0.4f | dice: %0.4f | dice_neg: %0.4f | dice_pos: %0.4f\" % (epoch_loss, iou, dice, dice_neg, dice_pos))\n",
    "    return dice, iou"
   ]
  },
  {
   "cell_type": "markdown",
   "metadata": {},
   "source": [
    "# Build Model\n",
    "\n",
    "Build Unet using the [library](https://github.com/qubvel/segmentation_models.pytorch) recommended by the lecturer.\n",
    "\n",
    "I use ResNet18 as the feature extracting layer and it is pretrained by ImageNet dataset."
   ]
  },
  {
   "cell_type": "code",
   "execution_count": 22,
   "metadata": {},
   "outputs": [],
   "source": [
    "import segmentation_models_pytorch as smp\n",
    "\n",
    "model = smp.Unet(\"resnet34\", encoder_weights=\"imagenet\", classes=4, activation=None)"
   ]
  },
  {
   "cell_type": "markdown",
   "metadata": {},
   "source": [
    "# Model Training"
   ]
  },
  {
   "cell_type": "markdown",
   "metadata": {},
   "source": [
    "## Loss function\n",
    "Use binary cross entropy error as our loss function"
   ]
  },
  {
   "cell_type": "code",
   "execution_count": 23,
   "metadata": {},
   "outputs": [],
   "source": [
    "import torch\n",
    "\n",
    "criterion = torch.nn.BCEWithLogitsLoss()"
   ]
  },
  {
   "cell_type": "markdown",
   "metadata": {},
   "source": [
    "## Opitimizer\n",
    "\n",
    "I use Adam as optimizer, and use ReduceLROnPlateau to schedully reduce the learning rate. (learning rate decay)"
   ]
  },
  {
   "cell_type": "code",
   "execution_count": 24,
   "metadata": {},
   "outputs": [],
   "source": [
    "import torch.optim as optim\n",
    "\n",
    "optimizer = optim.Adam(model.parameters(), lr=5e-3)\n",
    "\n",
    "scheduler = optim.lr_scheduler.ReduceLROnPlateau(optimizer, mode=\"min\", patience=3, verbose=True)"
   ]
  },
  {
   "cell_type": "markdown",
   "metadata": {},
   "source": [
    "## Iteration for training and validation\n",
    "Model Training and validation"
   ]
  },
  {
   "cell_type": "code",
   "execution_count": 25,
   "metadata": {
    "scrolled": false
   },
   "outputs": [
    {
     "name": "stdout",
     "output_type": "stream",
     "text": [
      "Starting epoch: 0 | phase: train | ⏰: 13:34:23\n"
     ]
    },
    {
     "name": "stderr",
     "output_type": "stream",
     "text": [
      "<ipython-input-20-930a3d73628a>:51: RuntimeWarning: Mean of empty slice\n",
      "  ious.append(np.nanmean(compute_ious(pred, label, classes)))\n",
      "<ipython-input-20-930a3d73628a>:52: RuntimeWarning: Mean of empty slice\n",
      "  iou = np.nanmean(ious)\n"
     ]
    },
    {
     "name": "stdout",
     "output_type": "stream",
     "text": [
      "Loss: 0.0724 | IoU: 0.0012 | dice: 0.2945 | dice_neg: 0.9577 | dice_pos: 0.0020\n",
      "Starting epoch: 0 | phase: val | ⏰: 14:43:47\n",
      "Loss: 0.0724 | IoU: 0.0117 | dice: 0.2522 | dice_neg: 0.9577 | dice_pos: 0.0235\n",
      "******** New optimal found, saving state ********\n",
      "\n",
      "Starting epoch: 1 | phase: train | ⏰: 14:50:10\n",
      "Loss: 0.0542 | IoU: 0.0416 | dice: 0.3219 | dice_neg: 0.9301 | dice_pos: 0.0571\n",
      "Starting epoch: 1 | phase: val | ⏰: 15:57:38\n",
      "Loss: 0.0542 | IoU: 0.0548 | dice: 0.2889 | dice_neg: 0.9301 | dice_pos: 0.0836\n",
      "******** New optimal found, saving state ********\n",
      "\n",
      "Starting epoch: 2 | phase: train | ⏰: 16:04:05\n",
      "Loss: 0.0514 | IoU: 0.1117 | dice: 0.3724 | dice_neg: 0.8437 | dice_pos: 0.1539\n",
      "Starting epoch: 2 | phase: val | ⏰: 17:11:06\n",
      "Loss: 0.0514 | IoU: 0.1037 | dice: 0.3193 | dice_neg: 0.8437 | dice_pos: 0.1414\n",
      "******** New optimal found, saving state ********\n",
      "\n",
      "Starting epoch: 3 | phase: train | ⏰: 17:17:33\n",
      "Loss: 0.0500 | IoU: 0.1193 | dice: 0.3775 | dice_neg: 0.8659 | dice_pos: 0.1660\n",
      "Starting epoch: 3 | phase: val | ⏰: 18:24:34\n",
      "Loss: 0.0500 | IoU: 0.1195 | dice: 0.3367 | dice_neg: 0.8659 | dice_pos: 0.1680\n",
      "******** New optimal found, saving state ********\n",
      "\n",
      "Starting epoch: 4 | phase: train | ⏰: 18:30:59\n",
      "Loss: 0.0496 | IoU: 0.1114 | dice: 0.3790 | dice_neg: 0.8574 | dice_pos: 0.1542\n",
      "Starting epoch: 4 | phase: val | ⏰: 19:37:59\n",
      "Loss: 0.0496 | IoU: 0.1007 | dice: 0.3204 | dice_neg: 0.8574 | dice_pos: 0.1361\n",
      "******** No improvement with patience: 1/4 ********\n",
      "\n",
      "Starting epoch: 5 | phase: train | ⏰: 19:44:18\n",
      "Loss: 0.0488 | IoU: 0.1254 | dice: 0.3872 | dice_neg: 0.8703 | dice_pos: 0.1736\n",
      "Starting epoch: 5 | phase: val | ⏰: 20:51:16\n",
      "Loss: 0.0488 | IoU: 0.1263 | dice: 0.3475 | dice_neg: 0.8703 | dice_pos: 0.1776\n",
      "******** New optimal found, saving state ********\n",
      "\n",
      "Starting epoch: 6 | phase: train | ⏰: 20:57:38\n",
      "Loss: 0.0489 | IoU: 0.1333 | dice: 0.3977 | dice_neg: 0.8748 | dice_pos: 0.1831\n",
      "Starting epoch: 6 | phase: val | ⏰: 22:04:35\n",
      "Loss: 0.0489 | IoU: 0.1375 | dice: 0.3618 | dice_neg: 0.8748 | dice_pos: 0.1925\n",
      "******** No improvement with patience: 1/4 ********\n",
      "\n",
      "Starting epoch: 7 | phase: train | ⏰: 22:10:55\n",
      "Loss: 0.0469 | IoU: 0.1540 | dice: 0.4146 | dice_neg: 0.8644 | dice_pos: 0.2075\n",
      "Starting epoch: 7 | phase: val | ⏰: 23:17:45\n",
      "Loss: 0.0469 | IoU: 0.1334 | dice: 0.3465 | dice_neg: 0.8644 | dice_pos: 0.1719\n",
      "******** No improvement with patience: 2/4 ********\n",
      "\n",
      "Starting epoch: 8 | phase: train | ⏰: 23:24:00\n",
      "Loss: 0.0459 | IoU: 0.1509 | dice: 0.4184 | dice_neg: 0.8749 | dice_pos: 0.2102\n",
      "Starting epoch: 8 | phase: val | ⏰: 00:31:11\n",
      "Loss: 0.0459 | IoU: 0.1393 | dice: 0.3620 | dice_neg: 0.8749 | dice_pos: 0.1906\n",
      "******** New optimal found, saving state ********\n",
      "\n",
      "Starting epoch: 9 | phase: train | ⏰: 00:37:30\n",
      "Loss: 0.0468 | IoU: 0.1517 | dice: 0.4124 | dice_neg: 0.8755 | dice_pos: 0.2071\n",
      "Starting epoch: 9 | phase: val | ⏰: 01:44:41\n",
      "Loss: 0.0468 | IoU: 0.1606 | dice: 0.3852 | dice_neg: 0.8755 | dice_pos: 0.2255\n",
      "******** No improvement with patience: 1/4 ********\n",
      "\n",
      "Starting epoch: 10 | phase: train | ⏰: 01:50:55\n",
      "Loss: 0.0457 | IoU: 0.1569 | dice: 0.4231 | dice_neg: 0.8734 | dice_pos: 0.2142\n",
      "Starting epoch: 10 | phase: val | ⏰: 02:58:07\n",
      "Loss: 0.0457 | IoU: 0.1343 | dice: 0.3520 | dice_neg: 0.8734 | dice_pos: 0.1749\n",
      "******** No improvement with patience: 2/4 ********\n",
      "\n",
      "Starting epoch: 11 | phase: train | ⏰: 03:04:28\n",
      "Loss: 0.0461 | IoU: 0.1584 | dice: 0.4312 | dice_neg: 0.8813 | dice_pos: 0.2216\n",
      "Starting epoch: 11 | phase: val | ⏰: 04:11:31\n",
      "Loss: 0.0461 | IoU: 0.1609 | dice: 0.3934 | dice_neg: 0.8813 | dice_pos: 0.2272\n",
      "******** New optimal found, saving state ********\n",
      "\n",
      "Starting epoch: 12 | phase: train | ⏰: 04:17:56\n",
      "Loss: 0.0449 | IoU: 0.1690 | dice: 0.4267 | dice_neg: 0.8834 | dice_pos: 0.2318\n",
      "Starting epoch: 12 | phase: val | ⏰: 05:25:00\n",
      "Loss: 0.0449 | IoU: 0.1749 | dice: 0.3973 | dice_neg: 0.8834 | dice_pos: 0.2445\n",
      "******** New optimal found, saving state ********\n",
      "\n",
      "Starting epoch: 13 | phase: train | ⏰: 05:31:17\n",
      "Loss: 0.0445 | IoU: 0.1713 | dice: 0.4448 | dice_neg: 0.8834 | dice_pos: 0.2321\n",
      "Starting epoch: 13 | phase: val | ⏰: 06:39:44\n",
      "Loss: 0.0445 | IoU: 0.1413 | dice: 0.3628 | dice_neg: 0.8834 | dice_pos: 0.1788\n",
      "******** No improvement with patience: 1/4 ********\n",
      "\n",
      "Starting epoch: 14 | phase: train | ⏰: 06:46:06\n",
      "Loss: 0.0445 | IoU: 0.1687 | dice: 0.4323 | dice_neg: 0.8744 | dice_pos: 0.2345\n",
      "Starting epoch: 14 | phase: val | ⏰: 07:54:48\n",
      "Loss: 0.0445 | IoU: 0.1781 | dice: 0.4064 | dice_neg: 0.8744 | dice_pos: 0.2527\n",
      "******** New optimal found, saving state ********\n",
      "\n",
      "Starting epoch: 15 | phase: train | ⏰: 08:01:12\n",
      "Loss: 0.0438 | IoU: 0.1697 | dice: 0.4328 | dice_neg: 0.8751 | dice_pos: 0.2348\n",
      "Starting epoch: 15 | phase: val | ⏰: 09:09:55\n",
      "Loss: 0.0438 | IoU: 0.1656 | dice: 0.3879 | dice_neg: 0.8751 | dice_pos: 0.2277\n",
      "******** New optimal found, saving state ********\n",
      "\n",
      "Starting epoch: 16 | phase: train | ⏰: 09:16:21\n",
      "Loss: 0.0445 | IoU: 0.1723 | dice: 0.4383 | dice_neg: 0.8824 | dice_pos: 0.2349\n",
      "Starting epoch: 16 | phase: val | ⏰: 10:25:04\n",
      "Loss: 0.0445 | IoU: 0.1778 | dice: 0.4068 | dice_neg: 0.8824 | dice_pos: 0.2472\n",
      "******** No improvement with patience: 1/4 ********\n",
      "\n",
      "Starting epoch: 17 | phase: train | ⏰: 10:31:28\n",
      "Loss: 0.0433 | IoU: 0.1842 | dice: 0.4559 | dice_neg: 0.8882 | dice_pos: 0.2522\n",
      "Starting epoch: 17 | phase: val | ⏰: 11:40:05\n",
      "Loss: 0.0433 | IoU: 0.1847 | dice: 0.4173 | dice_neg: 0.8882 | dice_pos: 0.2550\n",
      "******** No improvement with patience: 2/4 ********\n",
      "\n",
      "Starting epoch: 18 | phase: train | ⏰: 11:46:27\n",
      "Loss: 0.0426 | IoU: 0.1928 | dice: 0.4609 | dice_neg: 0.8907 | dice_pos: 0.2610\n",
      "Starting epoch: 18 | phase: val | ⏰: 12:55:01\n",
      "Loss: 0.0426 | IoU: 0.1843 | dice: 0.4122 | dice_neg: 0.8907 | dice_pos: 0.2492\n",
      "******** New optimal found, saving state ********\n",
      "\n",
      "Starting epoch: 19 | phase: train | ⏰: 13:01:28\n",
      "Loss: 0.0426 | IoU: 0.1822 | dice: 0.4564 | dice_neg: 0.8925 | dice_pos: 0.2517\n",
      "Starting epoch: 19 | phase: val | ⏰: 14:10:08\n",
      "Loss: 0.0426 | IoU: 0.1830 | dice: 0.4172 | dice_neg: 0.8925 | dice_pos: 0.2540\n",
      "******** No improvement with patience: 1/4 ********\n",
      "\n",
      "Starting epoch: 20 | phase: train | ⏰: 14:16:27\n",
      "Loss: 0.0425 | IoU: 0.1958 | dice: 0.4579 | dice_neg: 0.8883 | dice_pos: 0.2656\n",
      "Starting epoch: 20 | phase: val | ⏰: 15:24:56\n",
      "Loss: 0.0425 | IoU: 0.1896 | dice: 0.4136 | dice_neg: 0.8883 | dice_pos: 0.2578\n",
      "******** No improvement with patience: 2/4 ********\n",
      "\n",
      "Starting epoch: 21 | phase: train | ⏰: 15:31:15\n",
      "Loss: 0.0420 | IoU: 0.1862 | dice: 0.4530 | dice_neg: 0.8871 | dice_pos: 0.2513\n",
      "Starting epoch: 21 | phase: val | ⏰: 16:39:54\n",
      "Loss: 0.0420 | IoU: 0.1975 | dice: 0.4294 | dice_neg: 0.8871 | dice_pos: 0.2737\n",
      "******** No improvement with patience: 3/4 ********\n",
      "\n",
      "Starting epoch: 22 | phase: train | ⏰: 16:46:15\n",
      "Loss: 0.0417 | IoU: 0.1885 | dice: 0.4477 | dice_neg: 0.8971 | dice_pos: 0.2560\n",
      "Starting epoch: 22 | phase: val | ⏰: 17:54:53\n",
      "Loss: 0.0417 | IoU: 0.1909 | dice: 0.4142 | dice_neg: 0.8971 | dice_pos: 0.2624\n",
      "******** New optimal found, saving state ********\n",
      "\n",
      "Starting epoch: 23 | phase: train | ⏰: 18:01:18\n",
      "Loss: 0.0416 | IoU: 0.1933 | dice: 0.4640 | dice_neg: 0.8959 | dice_pos: 0.2601\n",
      "Starting epoch: 23 | phase: val | ⏰: 19:09:31\n",
      "Loss: 0.0416 | IoU: 0.1604 | dice: 0.3799 | dice_neg: 0.8959 | dice_pos: 0.2018\n",
      "******** No improvement with patience: 1/4 ********\n",
      "\n",
      "Starting epoch: 24 | phase: train | ⏰: 19:15:50\n",
      "Loss: 0.0430 | IoU: 0.1926 | dice: 0.4514 | dice_neg: 0.8854 | dice_pos: 0.2585\n",
      "Starting epoch: 24 | phase: val | ⏰: 20:24:08\n",
      "Loss: 0.0430 | IoU: 0.1824 | dice: 0.4016 | dice_neg: 0.8854 | dice_pos: 0.2435\n",
      "******** New optimal found, saving state ********\n",
      "\n",
      "Starting epoch: 25 | phase: train | ⏰: 20:30:32\n",
      "Loss: 0.0409 | IoU: 0.2081 | dice: 0.4697 | dice_neg: 0.8972 | dice_pos: 0.2777\n",
      "Starting epoch: 25 | phase: val | ⏰: 21:38:44\n",
      "Loss: 0.0409 | IoU: 0.2057 | dice: 0.4305 | dice_neg: 0.8972 | dice_pos: 0.2766\n",
      "******** New optimal found, saving state ********\n",
      "\n",
      "Starting epoch: 26 | phase: train | ⏰: 21:45:06\n",
      "Loss: 0.0412 | IoU: 0.1971 | dice: 0.4651 | dice_neg: 0.9015 | dice_pos: 0.2634\n",
      "Starting epoch: 26 | phase: val | ⏰: 22:53:20\n",
      "Loss: 0.0412 | IoU: 0.1979 | dice: 0.4287 | dice_neg: 0.9015 | dice_pos: 0.2687\n",
      "******** No improvement with patience: 1/4 ********\n",
      "\n",
      "Starting epoch: 27 | phase: train | ⏰: 22:59:40\n"
     ]
    },
    {
     "name": "stdout",
     "output_type": "stream",
     "text": [
      "Loss: 0.0421 | IoU: 0.2006 | dice: 0.4579 | dice_neg: 0.8776 | dice_pos: 0.2738\n",
      "Starting epoch: 27 | phase: val | ⏰: 00:08:04\n",
      "Loss: 0.0421 | IoU: 0.1961 | dice: 0.4166 | dice_neg: 0.8776 | dice_pos: 0.2679\n",
      "******** New optimal found, saving state ********\n",
      "\n",
      "Starting epoch: 28 | phase: train | ⏰: 00:14:28\n",
      "Loss: 0.0405 | IoU: 0.1953 | dice: 0.4698 | dice_neg: 0.9029 | dice_pos: 0.2636\n",
      "Starting epoch: 28 | phase: val | ⏰: 01:22:52\n",
      "Loss: 0.0405 | IoU: 0.1758 | dice: 0.4062 | dice_neg: 0.9029 | dice_pos: 0.2334\n",
      "******** No improvement with patience: 1/4 ********\n",
      "\n",
      "Starting epoch: 29 | phase: train | ⏰: 01:29:11\n",
      "Loss: 0.0398 | IoU: 0.2031 | dice: 0.4614 | dice_neg: 0.8877 | dice_pos: 0.2754\n",
      "Starting epoch: 29 | phase: val | ⏰: 02:37:33\n",
      "Loss: 0.0398 | IoU: 0.2017 | dice: 0.4241 | dice_neg: 0.8877 | dice_pos: 0.2753\n",
      "******** No improvement with patience: 2/4 ********\n",
      "\n"
     ]
    }
   ],
   "source": [
    "import time\n",
    "\n",
    "# define hyperparameters\n",
    "num_epochs = 30\n",
    "batch_size = 4\n",
    "accumulation_steps = 32 / batch_size\n",
    "best_loss = float(\"inf\")\n",
    "\n",
    "train_losses = []\n",
    "train_iou = []\n",
    "train_dice = []\n",
    "valid_losses = []\n",
    "valid_iou = []\n",
    "valid_dice = []\n",
    "\n",
    "stop_patience = 4\n",
    "epochs_no_improve = 0\n",
    "early_stop = False\n",
    "min_val_loss = np.Inf\n",
    "\n",
    "for epoch in range(num_epochs):\n",
    "    # Training\n",
    "    log = Logger(\"train\", epoch)\n",
    "    start = time.strftime(\"%H:%M:%S\")\n",
    "    print(f\"Starting epoch: {epoch} | phase: train | ⏰: {start}\")\n",
    "    model.train()\n",
    "    running_loss = 0.0\n",
    "    total_batches = len(train_loader)\n",
    "    optimizer.zero_grad()\n",
    "    for itr, batch in enumerate(train_loader):\n",
    "        images, targets = batch\n",
    "        outputs = model(images)\n",
    "        loss = criterion(outputs, targets)\n",
    "        loss = loss / accumulation_steps\n",
    "        loss.backward()\n",
    "        if (itr + 1 ) % accumulation_steps == 0:\n",
    "            optimizer.step()\n",
    "            optimizer.zero_grad()\n",
    "        running_loss += loss.item()\n",
    "        outputs = outputs.detach()\n",
    "        log.update(targets, outputs)\n",
    "    epoch_loss = (running_loss * accumulation_steps) / total_batches\n",
    "    dice, iou = epoch_log(epoch, epoch_loss, log)\n",
    "    train_losses.append(epoch_loss)\n",
    "    train_dice.append(dice)\n",
    "    train_iou.append(iou)\n",
    "    \n",
    "    state = {\n",
    "        \"epoch\": epoch,\n",
    "        \"best_loss\": best_loss,\n",
    "        \"state_dict\": model.state_dict(),\n",
    "        \"optimizer\": optimizer.state_dict(),\n",
    "    }\n",
    "    \n",
    "    # Validation\n",
    "    torch.no_grad()\n",
    "    val_log = Logger(\"val\", epoch)\n",
    "    start = time.strftime(\"%H:%M:%S\")\n",
    "    print(f\"Starting epoch: {epoch} | phase: val | ⏰: {start}\")\n",
    "    running_loss = 0.0\n",
    "    total_batches = len(val_loader)\n",
    "    optimizer.zero_grad()\n",
    "    for itr, batch in enumerate(val_loader):\n",
    "        images, targets = batch\n",
    "        outputs = model(images)\n",
    "        loss = criterion(outputs, targets)\n",
    "        loss = loss / accumulation_steps\n",
    "        running_loss += loss.item()\n",
    "        outputs = outputs.detach()\n",
    "        log.update(targets, outputs)\n",
    "    val_loss = (running_loss * accumulation_steps) / total_batches\n",
    "    dice, iou = epoch_log(epoch, epoch_loss, log)\n",
    "    valid_losses.append(val_loss)\n",
    "    valid_dice.append(dice)\n",
    "    valid_iou.append(iou)\n",
    "    \n",
    "    scheduler.step(val_loss)\n",
    "    \n",
    "    if val_loss < best_loss:\n",
    "        print(\"******** New optimal found, saving state ********\")\n",
    "        torch.save(state, \"./models/opt-model.pth\")\n",
    "        state[\"best_loss\"] = best_loss = val_loss\n",
    "        epochs_no_improve = 0\n",
    "        min_val_loss = val_loss\n",
    "    else:\n",
    "        epochs_no_improve += 1\n",
    "        print(\"******** No improvement with patience: {}/{} ********\".format(epochs_no_improve, stop_patience))\n",
    "        \n",
    "    if epochs_no_improve == stop_patience:\n",
    "        print(\"Early Stopping\")\n",
    "        early_stop = True\n",
    "        torch.save(state, \"./models/opt-model.pth\")\n",
    "        break\n",
    " \n",
    "    print()\n",
    "        \n",
    "    "
   ]
  },
  {
   "cell_type": "code",
   "execution_count": 27,
   "metadata": {
    "scrolled": false
   },
   "outputs": [
    {
     "data": {
      "text/plain": [
       "[0.053391672721032256,\n",
       " 0.051716421145254265,\n",
       " 0.049641226529852,\n",
       " 0.04612679447989888,\n",
       " 0.047964828883571,\n",
       " 0.0454162029203719,\n",
       " 0.04602158120080472,\n",
       " 0.045450793676814455,\n",
       " 0.04405902191427743,\n",
       " 0.046228577115177034,\n",
       " 0.04590888592431288,\n",
       " 0.04394330380451001,\n",
       " 0.04386623831700065,\n",
       " 0.04603776804165926,\n",
       " 0.04376149855966786,\n",
       " 0.041495841016022564,\n",
       " 0.04213966639478228,\n",
       " 0.043664429046793615,\n",
       " 0.041278714843897404,\n",
       " 0.041322935682102414,\n",
       " 0.04231956399263379,\n",
       " 0.042533915746444,\n",
       " 0.04071261006558013,\n",
       " 0.046055895175985594,\n",
       " 0.040263243959268585,\n",
       " 0.03935962073605307,\n",
       " 0.040694636869952526,\n",
       " 0.039140593305140914,\n",
       " 0.041095356342611376,\n",
       " 0.03950424200135791]"
      ]
     },
     "execution_count": 27,
     "metadata": {},
     "output_type": "execute_result"
    }
   ],
   "source": [
    "valid_losses"
   ]
  },
  {
   "cell_type": "code",
   "execution_count": 28,
   "metadata": {
    "scrolled": true
   },
   "outputs": [
    {
     "data": {
      "text/plain": [
       "[0.07239561585886914,\n",
       " 0.05424522062929854,\n",
       " 0.05138353183264694,\n",
       " 0.05002640594189619,\n",
       " 0.049607861112867496,\n",
       " 0.048794540544498125,\n",
       " 0.04889089460289057,\n",
       " 0.046929153344410196,\n",
       " 0.04594732695891447,\n",
       " 0.04683450647959568,\n",
       " 0.045746418061636145,\n",
       " 0.04614701088439654,\n",
       " 0.04491048480753646,\n",
       " 0.044451293029521284,\n",
       " 0.04445104916413739,\n",
       " 0.04384726148559129,\n",
       " 0.044524842476897045,\n",
       " 0.04325927838449774,\n",
       " 0.04263275303819901,\n",
       " 0.042611738048222776,\n",
       " 0.04253019477535579,\n",
       " 0.041981928299767345,\n",
       " 0.04169239875890555,\n",
       " 0.041603065230335204,\n",
       " 0.0429651586634763,\n",
       " 0.04093288433258069,\n",
       " 0.04119417568094419,\n",
       " 0.04209182010799373,\n",
       " 0.04054025410281862,\n",
       " 0.03983010856461951]"
      ]
     },
     "execution_count": 28,
     "metadata": {},
     "output_type": "execute_result"
    }
   ],
   "source": [
    "train_losses"
   ]
  },
  {
   "cell_type": "code",
   "execution_count": 29,
   "metadata": {},
   "outputs": [
    {
     "data": {
      "text/plain": [
       "[0.29452184523104313,\n",
       " 0.32186252916266217,\n",
       " 0.37241549074391805,\n",
       " 0.377463977233642,\n",
       " 0.37895847752550516,\n",
       " 0.3872193348422804,\n",
       " 0.39766377961194316,\n",
       " 0.4146177722234007,\n",
       " 0.4183623768358991,\n",
       " 0.41239152746701035,\n",
       " 0.4231263716420688,\n",
       " 0.4312292703656341,\n",
       " 0.4266928358426452,\n",
       " 0.4447893497256278,\n",
       " 0.43230655465382317,\n",
       " 0.43278589345737006,\n",
       " 0.43826941097471517,\n",
       " 0.45589214269749107,\n",
       " 0.46093129054251525,\n",
       " 0.45637155656619205,\n",
       " 0.4579137736757628,\n",
       " 0.45303673745353806,\n",
       " 0.4476552055671904,\n",
       " 0.46402156151315116,\n",
       " 0.451433459973765,\n",
       " 0.46974244484390276,\n",
       " 0.46507383850641876,\n",
       " 0.45793786489669236,\n",
       " 0.4698155144189994,\n",
       " 0.4614384261207393]"
      ]
     },
     "execution_count": 29,
     "metadata": {},
     "output_type": "execute_result"
    }
   ],
   "source": [
    "train_dice"
   ]
  },
  {
   "cell_type": "code",
   "execution_count": 30,
   "metadata": {
    "scrolled": false
   },
   "outputs": [
    {
     "data": {
      "text/plain": [
       "[0.2521882615662388,\n",
       " 0.28893138210033653,\n",
       " 0.319337021016297,\n",
       " 0.33669699447579327,\n",
       " 0.3204448186175114,\n",
       " 0.347531023202154,\n",
       " 0.3618365972839118,\n",
       " 0.3465076578075376,\n",
       " 0.36199536008066296,\n",
       " 0.3852158391426118,\n",
       " 0.35195567716467924,\n",
       " 0.3934240114371457,\n",
       " 0.3973425915098712,\n",
       " 0.36283623568849344,\n",
       " 0.40637244906732645,\n",
       " 0.38785169688359966,\n",
       " 0.40679730133826864,\n",
       " 0.41726463063334895,\n",
       " 0.4121635049430062,\n",
       " 0.4171564856221965,\n",
       " 0.4135567707942735,\n",
       " 0.42937786812677176,\n",
       " 0.4142046287024791,\n",
       " 0.37988226150482685,\n",
       " 0.40155384347021844,\n",
       " 0.4305018342276366,\n",
       " 0.4286891014929337,\n",
       " 0.4165907525451744,\n",
       " 0.4061641363237473,\n",
       " 0.4241214356485948]"
      ]
     },
     "execution_count": 30,
     "metadata": {},
     "output_type": "execute_result"
    }
   ],
   "source": [
    "valid_dice"
   ]
  },
  {
   "cell_type": "code",
   "execution_count": 31,
   "metadata": {
    "scrolled": true
   },
   "outputs": [
    {
     "data": {
      "text/plain": [
       "[0.0012002285960075643,\n",
       " 0.04157393715032321,\n",
       " 0.1117124571665882,\n",
       " 0.1193034833293894,\n",
       " 0.11135107624721978,\n",
       " 0.12536315389239364,\n",
       " 0.13333659422353003,\n",
       " 0.15401742973345786,\n",
       " 0.15094587161089382,\n",
       " 0.15168102771826783,\n",
       " 0.1569480592063411,\n",
       " 0.15838811488440052,\n",
       " 0.16902228996614974,\n",
       " 0.17128819903199757,\n",
       " 0.16869412508310025,\n",
       " 0.1696576930148213,\n",
       " 0.17227765346523283,\n",
       " 0.18422312619440068,\n",
       " 0.1927644880213377,\n",
       " 0.18215816949078958,\n",
       " 0.19580314160810033,\n",
       " 0.18617204524144396,\n",
       " 0.1885265667124344,\n",
       " 0.19334383967091665,\n",
       " 0.1926286101112866,\n",
       " 0.20807118044485337,\n",
       " 0.19712959070292407,\n",
       " 0.20062171888469812,\n",
       " 0.19529747271093637,\n",
       " 0.20313849596238615]"
      ]
     },
     "execution_count": 31,
     "metadata": {},
     "output_type": "execute_result"
    }
   ],
   "source": [
    "train_iou"
   ]
  },
  {
   "cell_type": "code",
   "execution_count": 32,
   "metadata": {
    "scrolled": true
   },
   "outputs": [
    {
     "data": {
      "text/plain": [
       "[0.011722540246314169,\n",
       " 0.05477202806257766,\n",
       " 0.10367861519916653,\n",
       " 0.11949535960157992,\n",
       " 0.10071999773194608,\n",
       " 0.12625445431609775,\n",
       " 0.13751986461675433,\n",
       " 0.13339977344466125,\n",
       " 0.13926258055470908,\n",
       " 0.16058032867907043,\n",
       " 0.13432513687613706,\n",
       " 0.16093492297042797,\n",
       " 0.17487683639086718,\n",
       " 0.14130619120805224,\n",
       " 0.17809410439931397,\n",
       " 0.1655993090996994,\n",
       " 0.17781947628456798,\n",
       " 0.18472445696276976,\n",
       " 0.18433086624400533,\n",
       " 0.1829745066215441,\n",
       " 0.1895788273568814,\n",
       " 0.1975314881117376,\n",
       " 0.1909145059994571,\n",
       " 0.16036149167873948,\n",
       " 0.18241893203733592,\n",
       " 0.20573652485681523,\n",
       " 0.19786087828200943,\n",
       " 0.19605505855204988,\n",
       " 0.17580504521930754,\n",
       " 0.2017277893031585]"
      ]
     },
     "execution_count": 32,
     "metadata": {},
     "output_type": "execute_result"
    }
   ],
   "source": [
    "valid_iou"
   ]
  },
  {
   "cell_type": "code",
   "execution_count": 56,
   "metadata": {},
   "outputs": [
    {
     "data": {
      "image/png": "[encoded data removed]",
      "text/plain": [
       "<Figure size 432x360 with 1 Axes>"
      ]
     },
     "metadata": {
      "needs_background": "light"
     },
     "output_type": "display_data"
    }
   ],
   "source": [
    "import matplotlib.pyplot as plt\n",
    "\n",
    "plt.figure(figsize=(6, 5))\n",
    "x2 = range(1, len(valid_dice)+1)\n",
    "y2 = valid_dice\n",
    "plt.plot(x2, y2, label = \"Valid DICE\")\n",
    "\n",
    "\n",
    "x3 = range(1, len(valid_iou)+1)\n",
    "y3 = valid_iou\n",
    "plt.plot(x3, y3, label = \"Valid IoU\")\n",
    "\n",
    "\n",
    "x5 = range(1, len(train_dice)+1)\n",
    "y5 = train_dice\n",
    "plt.plot(x5, y5, label = \"Train DICE\")\n",
    "\n",
    "x6 = range(1, len(train_iou)+1)\n",
    "y6 = train_iou\n",
    "plt.plot(x6, y6, label = \"Train IoU\")\n",
    "\n",
    "plt.xlabel('Epoch')\n",
    "plt.ylabel('Value')\n",
    "plt.legend(loc=4)\n",
    "plt.show()"
   ]
  },
  {
   "cell_type": "code",
   "execution_count": 46,
   "metadata": {},
   "outputs": [
    {
     "data": {
      "image/png": "[encoded data removed]",
      "text/plain": [
       "<Figure size 432x288 with 1 Axes>"
      ]
     },
     "metadata": {
      "needs_background": "light"
     },
     "output_type": "display_data"
    }
   ],
   "source": [
    "\n",
    "x1 = range(1,len(valid_dice)+1)\n",
    "y1 = valid_dice\n",
    "\n",
    "plt.plot(x1, y1, label = \"Valid dice\")\n",
    "\n",
    "x4 = range(1, len(train_dice)+1)\n",
    "y4 = train_dice\n",
    "plt.plot(x4, y4, label = \"Train dice\")\n",
    "\n",
    "plt.xlabel('Epoch')\n",
    "plt.ylabel('DICE')\n",
    "plt.legend()\n",
    "plt.show()"
   ]
  }
 ],
 "metadata": {
  "kernelspec": {
   "display_name": "Python 3",
   "language": "python",
   "name": "python3"
  },
  "language_info": {
   "codemirror_mode": {
    "name": "ipython",
    "version": 3
   },
   "file_extension": ".py",
   "mimetype": "text/x-python",
   "name": "python",
   "nbconvert_exporter": "python",
   "pygments_lexer": "ipython3",
   "version": "3.8.5"
  }
 },
 "nbformat": 4,
 "nbformat_minor": 4
}
